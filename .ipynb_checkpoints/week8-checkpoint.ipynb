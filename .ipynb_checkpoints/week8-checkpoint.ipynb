{
 "cells": [
  {
   "cell_type": "markdown",
   "metadata": {},
   "source": [
    "## Continuation Passing Style\n",
    "\n",
    "Continuation passing style (CPS) makes use of first-class functions by requiring that all functions take an extra argument `k`, which we call the continuation. `k` must be a function, and when a function returns, it calls `k` on the return value and returns that instead."
   ]
  },
  {
   "cell_type": "code",
   "execution_count": null,
   "metadata": {},
   "outputs": [],
   "source": [
    "// This function takes an integer x and returns x + 1\n",
    "def addOne(x: Int): Int = {\n",
    "    val result = x + 1\n",
    "    result\n",
    "}"
   ]
  },
  {
   "cell_type": "code",
   "execution_count": null,
   "metadata": {},
   "outputs": [],
   "source": [
    "addOne(5)"
   ]
  },
  {
   "cell_type": "code",
   "execution_count": null,
   "metadata": {},
   "outputs": [],
   "source": [
    "// In CPS, we would write...\n",
    "def addOne_cps(x: Int, k: Int => Int): Int = {\n",
    "    val result = x + 1\n",
    "    k(result)\n",
    "}"
   ]
  },
  {
   "cell_type": "code",
   "execution_count": null,
   "metadata": {
    "scrolled": true
   },
   "outputs": [],
   "source": [
    "val identity: Int => Int = y => y\n",
    "addOne_cps(5, identity)"
   ]
  },
  {
   "cell_type": "code",
   "execution_count": null,
   "metadata": {
    "scrolled": true
   },
   "outputs": [],
   "source": [
    "// Use generics to allow any return type for k\n",
    "def addTwo_cps[T](x: Int, k: Int => T): T = {\n",
    "    val result = x + 2\n",
    "    k(result)\n",
    "}"
   ]
  },
  {
   "cell_type": "code",
   "execution_count": null,
   "metadata": {},
   "outputs": [],
   "source": [
    "addTwo_cps(5, identity)"
   ]
  },
  {
   "cell_type": "code",
   "execution_count": null,
   "metadata": {},
   "outputs": [],
   "source": [
    "addTwo_cps(5, x => List(x))"
   ]
  },
  {
   "cell_type": "markdown",
   "metadata": {},
   "source": [
    "## Exercise: Side Effects\n",
    "Given the following functions, change them to use continuations:"
   ]
  },
  {
   "cell_type": "code",
   "execution_count": null,
   "metadata": {},
   "outputs": [],
   "source": [
    "// Function with side effects\n",
    "def printFive(f: Int => String): Int = {\n",
    "    val five = 5\n",
    "    println(f(five))\n",
    "    five\n",
    "}"
   ]
  },
  {
   "cell_type": "code",
   "execution_count": null,
   "metadata": {},
   "outputs": [],
   "source": [
    "def printFive_cps(f: Int => String, k: Int => Int): Int = {\n",
    "    // Your Code\n",
    "    ???\n",
    "}"
   ]
  },
  {
   "cell_type": "code",
   "execution_count": null,
   "metadata": {},
   "outputs": [],
   "source": [
    "printFive(x => x.toString)"
   ]
  },
  {
   "cell_type": "code",
   "execution_count": null,
   "metadata": {},
   "outputs": [],
   "source": [
    "printFive_cps(x => x.toString, y => y * 10)"
   ]
  },
  {
   "cell_type": "markdown",
   "metadata": {},
   "source": [
    "### Exercise: Backtracking\n",
    "Search a binary tree using CPS. Return true if the tree has a node with the integer `x` as a value."
   ]
  },
  {
   "cell_type": "code",
   "execution_count": null,
   "metadata": {
    "nbgrader": {
     "grade": false,
     "grade_id": "cell-bdaf875cad5b0678",
     "locked": false,
     "schema_version": 1,
     "solution": true
    }
   },
   "outputs": [],
   "source": [
    "sealed trait Tree\n",
    "case object Empty extends Tree\n",
    "case class Node(left: Tree, value: Int, right: Tree) extends Tree\n",
    "\n",
    "def search(t: Tree, x: Int, fail_continuation: () => Boolean): Boolean =\n",
    "    // Your Code\n",
    "    ???\n"
   ]
  },
  {
   "cell_type": "code",
   "execution_count": null,
   "metadata": {
    "nbgrader": {
     "grade": true,
     "grade_id": "cell-df2188387bae0d26",
     "locked": true,
     "points": 1,
     "schema_version": 1,
     "solution": false
    }
   },
   "outputs": [],
   "source": [
    "val t = Node(Empty, 10, Node(Empty, 6, Empty))\n",
    "assert(search(t, 10, () => false))\n",
    "assert(!search(t, 0, () => false))"
   ]
  },
  {
   "cell_type": "code",
   "execution_count": null,
   "metadata": {},
   "outputs": [],
   "source": []
  }
 ],
 "metadata": {
  "celltoolbar": "Create Assignment",
  "kernelspec": {
   "display_name": "Scala",
   "language": "scala",
   "name": "scala"
  },
  "language_info": {
   "codemirror_mode": "text/x-scala",
   "file_extension": ".sc",
   "mimetype": "text/x-scala",
   "name": "scala",
   "nbconvert_exporter": "script",
   "version": "2.13.3"
  }
 },
 "nbformat": 4,
 "nbformat_minor": 2
}

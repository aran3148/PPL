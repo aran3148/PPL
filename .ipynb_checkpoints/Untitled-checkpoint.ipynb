{
 "cells": [
  {
   "cell_type": "code",
   "execution_count": 1,
   "metadata": {},
   "outputs": [
    {
     "name": "stdout",
     "output_type": "stream",
     "text": [
      "bosco\n",
      "bosco, a proud greyhound says Wuff Wuff!\n"
     ]
    },
    {
     "data": {
      "text/plain": [
       "defined \u001b[32mclass\u001b[39m \u001b[36mBarkingDog\u001b[39m\n",
       "\u001b[36mp1\u001b[39m: \u001b[32mBarkingDog\u001b[39m = ammonite.$sess.cmd0$Helper$BarkingDog@64bd09c2"
      ]
     },
     "execution_count": 1,
     "metadata": {},
     "output_type": "execute_result"
    }
   ],
   "source": [
    "class BarkingDog(val name: String, val breed:String, val age: Int ) {\n",
    "    /* A list of shouts for the dog */\n",
    "    val listOfShouts = List(\"Wuff Wuff\", \"Bow Wow Wow\", \"ARuff ARuff\", \"Rwoff\", \"Meow\")\n",
    "    /* The current shout */\n",
    "    private var idx = 0 \n",
    "    def bark() = {\n",
    "        /* Print the bark */\n",
    "        println(s\"${this.name}, a proud ${this.breed} says ${listOfShouts(idx)}!\")\n",
    "        /* Increment the index but wrap around to 0 to avoid embarassing exceptions */\n",
    "        this.idx = (this.idx + 1) %(listOfShouts.length) /* This is only possible because idx is 0 */\n",
    "    }    \n",
    "}\n",
    "\n",
    "val p1 = new BarkingDog(\"bosco\", \"greyhound\", 12);\n",
    "println(p1.name);\n",
    "p1.bark()\n"
   ]
  },
  {
   "cell_type": "code",
   "execution_count": 1,
   "metadata": {},
   "outputs": [
    {
     "data": {
      "text/plain": [
       "defined \u001b[32mtrait\u001b[39m \u001b[36mA\u001b[39m\n",
       "defined \u001b[32mclass\u001b[39m \u001b[36mX\u001b[39m\n",
       "defined \u001b[32mclass\u001b[39m \u001b[36mY\u001b[39m\n",
       "defined \u001b[32mobject\u001b[39m \u001b[36mZ\u001b[39m\n",
       "defined \u001b[32mfunction\u001b[39m \u001b[36munwind\u001b[39m"
      ]
     },
     "execution_count": 1,
     "metadata": {},
     "output_type": "execute_result"
    }
   ],
   "source": [
    " sealed trait A\n",
    "\n",
    " case class X ( i : Int ) extends A\n",
    "\n",
    " case class Y ( j : Int , x : A ) extends A\n",
    "\n",
    " case object Z extends A\n",
    "\n",
    " def unwind ( a : A ) = a match {    \n",
    "          case X ( j ) if j >= 0 => print(1)    \n",
    "          case Z => print(2)    \n",
    "          case Y ( j , Z ) => print(3)    \n",
    "          case Y ( j , X ( i )) if i < 0 => print(4)    \n",
    "          case X ( j ) if j < 0 => print(5) \n",
    "}"
   ]
  },
  {
   "cell_type": "code",
   "execution_count": 8,
   "metadata": {},
   "outputs": [
    {
     "name": "stdout",
     "output_type": "stream",
     "text": [
      "145"
     ]
    },
    {
     "ename": "",
     "evalue": "",
     "output_type": "error",
     "traceback": [
      "\u001b[31mscala.MatchError: Y(20,X(35)) (of class ammonite.$sess.cmd0$Helper$Y)\u001b[39m\n  ammonite.$sess.cmd0$Helper.unwind(\u001b[32mcmd0.sc\u001b[39m:\u001b[32m9\u001b[39m)\n  ammonite.$sess.cmd7$Helper.<init>(\u001b[32mcmd7.sc\u001b[39m:\u001b[32m4\u001b[39m)\n  ammonite.$sess.cmd7$.<clinit>(\u001b[32mcmd7.sc\u001b[39m:\u001b[32m7\u001b[39m)"
     ]
    }
   ],
   "source": [
    "unwind(X(25))\n",
    "unwind(Y(20, X(-10)))\n",
    "unwind(X(-40))\n",
    "unwind(Y(20, X(35)))"
   ]
  },
  {
   "cell_type": "code",
   "execution_count": 5,
   "metadata": {},
   "outputs": [
    {
     "data": {
      "text/plain": [
       "defined \u001b[32mtrait\u001b[39m \u001b[36mNumTree\u001b[39m\n",
       "defined \u001b[32mclass\u001b[39m \u001b[36mLeaf\u001b[39m\n",
       "defined \u001b[32mclass\u001b[39m \u001b[36mNode\u001b[39m\n",
       "defined \u001b[32mfunction\u001b[39m \u001b[36mfuckheadtest\u001b[39m"
      ]
     },
     "execution_count": 5,
     "metadata": {},
     "output_type": "execute_result"
    }
   ],
   "source": [
    "  sealed trait NumTree \n",
    "  case class Leaf(k: Int) extends NumTree\n",
    "  case class Node(k: Int, n1: NumTree, n2: NumTree) extends NumTree\n",
    "\n",
    "def fuckheadtest(v: NumTree) = \n",
    "\n",
    "{\n",
    "    \n",
    " v match {\n",
    "        case Leaf(k) if k >= 0 => print(1)\n",
    "        case Leaf(k) if k <= 0 => print(2)\n",
    "        case Leaf(k) if k == 0 => print(3)\n",
    "        case  Node(k, Leaf(_) , rChild) if k >= 0 => print(4)\n",
    "        case Node(k, _, _) => print(5)\n",
    " }\n",
    "}"
   ]
  },
  {
   "cell_type": "code",
   "execution_count": 32,
   "metadata": {},
   "outputs": [
    {
     "name": "stdout",
     "output_type": "stream",
     "text": [
      "11455"
     ]
    }
   ],
   "source": [
    "fuckheadtest(Leaf(10))\n",
    "fuckheadtest(Leaf(0))\n",
    "fuckheadtest(Node(10, Leaf(20), Node(5, Leaf(10), Leaf(10) )))\n",
    "fuckheadtest(Node(10,  Node(5, Leaf(10), Leaf(10) ), Leaf(20)))\n",
    "fuckheadtest(Node(-5, Leaf(-5), Node(5, Leaf(10), Leaf(10) )))"
   ]
  },
  {
   "cell_type": "code",
   "execution_count": 1,
   "metadata": {},
   "outputs": [
    {
     "name": "stderr",
     "output_type": "stream",
     "text": [
      "cmd1.sc:3: not found: value l\n",
      "val res1_1 = ( l.filter ( _ % 2 == 0) ). foldLeft (1) ((x,y) => (x * y))\n",
      "               ^Compilation Failed"
     ]
    },
    {
     "ename": "",
     "evalue": "",
     "output_type": "error",
     "traceback": [
      "Compilation Failed"
     ]
    }
   ],
   "source": [
    "val nums: List[Int] = List(1, 2, 3, 4)\n",
    "\n",
    "\n",
    "\n",
    "( l.filter ( _ % 2 == 0) ). foldLeft (1) ((x,y) => (x * y))"
   ]
  },
  {
   "cell_type": "code",
   "execution_count": 13,
   "metadata": {},
   "outputs": [
    {
     "name": "stdout",
     "output_type": "stream",
     "text": [
      "5\n",
      "4\n",
      "8\n",
      "6\n",
      "2\n"
     ]
    },
    {
     "data": {
      "text/plain": [
       "\u001b[36mnumbers\u001b[39m: \u001b[32mList\u001b[39m[\u001b[32mInt\u001b[39m] = \u001b[33mList\u001b[39m(\u001b[32m5\u001b[39m, \u001b[32m4\u001b[39m, \u001b[32m8\u001b[39m, \u001b[32m6\u001b[39m, \u001b[32m2\u001b[39m)\n",
       "\u001b[36mres12_1\u001b[39m: \u001b[32mInt\u001b[39m = \u001b[32m5\u001b[39m"
      ]
     },
     "execution_count": 13,
     "metadata": {},
     "output_type": "execute_result"
    }
   ],
   "source": [
    "val numbers = List(5, 4, 8, 6, 2)\n",
    "numbers.foldLeft(0) { (z, i) => {\n",
    "   println(i)\n",
    "    z + 1\n",
    "    \n",
    "} \n",
    " \n",
    "}"
   ]
  },
  {
   "cell_type": "code",
   "execution_count": 4,
   "metadata": {},
   "outputs": [
    {
     "name": "stdout",
     "output_type": "stream",
     "text": [
      "6"
     ]
    },
    {
     "data": {
      "text/plain": [
       "defined \u001b[32mtrait\u001b[39m \u001b[36mGlobal\u001b[39m\n",
       "defined \u001b[32mclass\u001b[39m \u001b[36mX\u001b[39m\n",
       "defined \u001b[32mobject\u001b[39m \u001b[36mZ\u001b[39m\n",
       "defined \u001b[32mclass\u001b[39m \u001b[36mY\u001b[39m\n",
       "defined \u001b[32mclass\u001b[39m \u001b[36mW\u001b[39m\n",
       "defined \u001b[32mfunction\u001b[39m \u001b[36mmatchUp\u001b[39m"
      ]
     },
     "execution_count": 4,
     "metadata": {},
     "output_type": "execute_result"
    }
   ],
   "source": [
    "sealed trait Global\n",
    "case class X(j: Int, c: String) extends Global\n",
    "case object Z extends Global\n",
    "case class Y(k: Int, cy: String) extends Global\n",
    "case class W(k: Int) extends Global\n",
    "\n",
    "\n",
    "def matchUp(g: Global) = g match {\n",
    "\n",
    "    case Z => { print(1)}\n",
    "\n",
    "    case X(j, c) if j >= 0 => { print(2)}\n",
    "\n",
    "    case Y(j, c) if j <= 0 => { print(3)}\n",
    "\n",
    "    case W(j) if j >= 0 => {print(4)}\n",
    "\n",
    "    case X(j, c) if j <= 0 => { print(5)}\n",
    "\n",
    "    case _ => { print(6) }\n",
    "}\n",
    "\n",
    "matchUp(W(-1))"
   ]
  },
  {
   "cell_type": "code",
   "execution_count": 3,
   "metadata": {},
   "outputs": [
    {
     "name": "stderr",
     "output_type": "stream",
     "text": [
      "cmd3.sc:1: value - is not a member of Boolean\n",
      "val res3 = print(( 2 >= 5) - (1 <= 4))\n",
      "                           ^Compilation Failed"
     ]
    },
    {
     "ename": "",
     "evalue": "",
     "output_type": "error",
     "traceback": [
      "Compilation Failed"
     ]
    }
   ],
   "source": [
    "print(( 2 >= 5) - (1 <= 4))"
   ]
  },
  {
   "cell_type": "code",
   "execution_count": 10,
   "metadata": {},
   "outputs": [
    {
     "name": "stderr",
     "output_type": "stream",
     "text": [
      "cmd10.sc:7: type mismatch;\n",
      " found   : Unit\n",
      " required: String\n",
      "    println(i)\n",
      "           ^Compilation Failed"
     ]
    },
    {
     "ename": "",
     "evalue": "",
     "output_type": "error",
     "traceback": [
      "Compilation Failed"
     ]
    }
   ],
   "source": [
    "val test = \"abcdefg\"\n",
    "\n",
    "val j = \"gfedcba\"\n",
    "\n",
    "val a = test.foldLeft(j){(z, i) => {\n",
    "    \n",
    "    println(i)\n",
    "\n",
    "}}\n",
    "\n",
    "println(z)"
   ]
  },
  {
   "cell_type": "code",
   "execution_count": 4,
   "metadata": {},
   "outputs": [
    {
     "data": {
      "text/plain": [
       "defined \u001b[32mclass\u001b[39m \u001b[36mA\u001b[39m\n",
       "defined \u001b[32mclass\u001b[39m \u001b[36mB\u001b[39m\n",
       "defined \u001b[32mclass\u001b[39m \u001b[36mC\u001b[39m\n",
       "\u001b[36mc1\u001b[39m: \u001b[32mC\u001b[39m = ammonite.$sess.cmd3$Helper$C@3db93545\n",
       "\u001b[36mx1\u001b[39m: \u001b[32mInt\u001b[39m = \u001b[32m5\u001b[39m"
      ]
     },
     "execution_count": 4,
     "metadata": {},
     "output_type": "execute_result"
    }
   ],
   "source": [
    "// all hail the scala playground\n",
    "\n",
    "abstract class A {\n",
    "    val x : Int\n",
    "    def foo(y:Int): Int = {y + x}\n",
    "    def bar(z:String) : Int = {z.toInt + x}\n",
    "    \n",
    "}\n",
    "\n",
    "class B extends A {\n",
    "    \n",
    "    override val x : Int = 25\n",
    "}\n",
    "\n",
    "class C extends B {\n",
    "    \n",
    "    override def foo(y: Int): Int = { y - x}\n",
    "    \n",
    "}\n",
    "\n",
    "val c1 = new C()\n",
    "val x1 = c1.foo(30)"
   ]
  },
  {
   "cell_type": "code",
   "execution_count": 5,
   "metadata": {},
   "outputs": [
    {
     "name": "stderr",
     "output_type": "stream",
     "text": [
      "cmd5.sc:1: class A is abstract; cannot be instantiated\n",
      "val a = new A()\n",
      "        ^Compilation Failed"
     ]
    },
    {
     "ename": "",
     "evalue": "",
     "output_type": "error",
     "traceback": [
      "Compilation Failed"
     ]
    }
   ],
   "source": [
    "val a = new A()"
   ]
  },
  {
   "cell_type": "code",
   "execution_count": 6,
   "metadata": {},
   "outputs": [
    {
     "data": {
      "text/plain": [
       "defined \u001b[32mclass\u001b[39m \u001b[36mA\u001b[39m\n",
       "defined \u001b[32mclass\u001b[39m \u001b[36mB\u001b[39m\n",
       "defined \u001b[32mclass\u001b[39m \u001b[36mC\u001b[39m\n",
       "defined \u001b[32mfunction\u001b[39m \u001b[36mfoo\u001b[39m"
      ]
     },
     "execution_count": 6,
     "metadata": {},
     "output_type": "execute_result"
    }
   ],
   "source": [
    "abstract class A\n",
    "\n",
    "class B extends A {\n",
    "    \n",
    "    def hello: String = \"Hell from B\"\n",
    "    \n",
    "}\n",
    "\n",
    "class C extends A {\n",
    "    \n",
    "    def hello: String = \"Hello from C\"\n",
    "    \n",
    "}\n",
    "\n",
    "def foo(a: A) = a.asInstanceOf[C].hello"
   ]
  },
  {
   "cell_type": "code",
   "execution_count": 7,
   "metadata": {},
   "outputs": [
    {
     "data": {
      "text/plain": [
       "\u001b[36mres6\u001b[39m: \u001b[32mString\u001b[39m = \u001b[32m\"Hello from C\"\u001b[39m"
      ]
     },
     "execution_count": 7,
     "metadata": {},
     "output_type": "execute_result"
    }
   ],
   "source": [
    "foo(new C)"
   ]
  },
  {
   "cell_type": "code",
   "execution_count": 8,
   "metadata": {},
   "outputs": [
    {
     "ename": "",
     "evalue": "",
     "output_type": "error",
     "traceback": [
      "\u001b[31mjava.lang.ClassCastException: class ammonite.$sess.cmd5$Helper$B cannot be cast to class ammonite.$sess.cmd5$Helper$C (ammonite.$sess.cmd5$Helper$B and ammonite.$sess.cmd5$Helper$C are in unnamed module of loader ammonite.runtime.SpecialClassLoader @26275bef)\u001b[39m\n  ammonite.$sess.cmd5$Helper.foo(\u001b[32mcmd5.sc\u001b[39m:\u001b[32m15\u001b[39m)\n  ammonite.$sess.cmd7$Helper.<init>(\u001b[32mcmd7.sc\u001b[39m:\u001b[32m1\u001b[39m)\n  ammonite.$sess.cmd7$.<clinit>(\u001b[32mcmd7.sc\u001b[39m:\u001b[32m7\u001b[39m)"
     ]
    }
   ],
   "source": [
    "foo(new B)"
   ]
  },
  {
   "cell_type": "code",
   "execution_count": 1,
   "metadata": {},
   "outputs": [
    {
     "data": {
      "text/plain": [
       "defined \u001b[32mfunction\u001b[39m \u001b[36mlstConc\u001b[39m"
      ]
     },
     "execution_count": 1,
     "metadata": {},
     "output_type": "execute_result"
    }
   ],
   "source": [
    "def lstConc(lst: List[Int], f: Int => Char): List[Char] = lst.map(f)\n"
   ]
  },
  {
   "cell_type": "code",
   "execution_count": 1,
   "metadata": {},
   "outputs": [
    {
     "name": "stderr",
     "output_type": "stream",
     "text": [
      "(console):1:12 expected (If | While | Try | DoWhile | For | Throw | Return | ImplicitLambda | SmallerExprOrLambda)\n",
      "val poop = [1,2,3]\n",
      "           ^"
     ]
    },
    {
     "ename": "",
     "evalue": "",
     "output_type": "error",
     "traceback": [
      "(console):1:12 expected (If | While | Try | DoWhile | For | Throw | Return | ImplicitLambda | SmallerExprOrLambda)\nval poop = [1,2,3]\n           ^"
     ]
    }
   ],
   "source": [
    "val poop = [1,2,3]\n",
    "val fff = \"h\"\n",
    "\n",
    "lstConc(poop, fff)"
   ]
  },
  {
   "cell_type": "code",
   "execution_count": null,
   "metadata": {},
   "outputs": [],
   "source": []
  }
 ],
 "metadata": {
  "kernelspec": {
   "display_name": "Scala 2.13",
   "language": "scala",
   "name": "scala213"
  },
  "language_info": {
   "codemirror_mode": "text/x-scala",
   "file_extension": ".scala",
   "mimetype": "text/x-scala",
   "name": "scala",
   "nbconvert_exporter": "script",
   "version": "2.13.1"
  }
 },
 "nbformat": 4,
 "nbformat_minor": 4
}
